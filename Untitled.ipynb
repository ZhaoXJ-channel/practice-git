{
 "cells": [
  {
   "cell_type": "code",
   "execution_count": 13,
   "metadata": {},
   "outputs": [
    {
     "name": "stderr",
     "output_type": "stream",
     "text": [
      "'ls' 不是内部或外部命令，也不是可运行的程序\n",
      "或批处理文件。\n"
     ]
    }
   ],
   "source": [
    "!ls \n"
   ]
  },
  {
   "cell_type": "code",
   "execution_count": 12,
   "metadata": {},
   "outputs": [
    {
     "name": "stderr",
     "output_type": "stream",
     "text": [
      "'pwd' 不是内部或外部命令，也不是可运行的程序\n",
      "或批处理文件。\n"
     ]
    }
   ],
   "source": [
    " !pwd"
   ]
  },
  {
   "cell_type": "code",
   "execution_count": 14,
   "metadata": {},
   "outputs": [
    {
     "name": "stdout",
     "output_type": "stream",
     "text": [
      "Requirement already satisfied: ipdb in c:\\programdata\\anaconda3\\lib\\site-packages (0.13.3)\n",
      "Requirement already satisfied: setuptools in c:\\programdata\\anaconda3\\lib\\site-packages (from ipdb) (40.8.0)\n",
      "Requirement already satisfied: ipython>=5.1.0; python_version >= \"3.4\" in c:\\programdata\\anaconda3\\lib\\site-packages (from ipdb) (7.4.0)\n",
      "Requirement already satisfied: prompt-toolkit<2.1.0,>=2.0.0 in c:\\programdata\\anaconda3\\lib\\site-packages (from ipython>=5.1.0; python_version >= \"3.4\"->ipdb) (2.0.9)\n",
      "Requirement already satisfied: pygments in c:\\programdata\\anaconda3\\lib\\site-packages (from ipython>=5.1.0; python_version >= \"3.4\"->ipdb) (2.3.1)\n",
      "Requirement already satisfied: pickleshare in c:\\programdata\\anaconda3\\lib\\site-packages (from ipython>=5.1.0; python_version >= \"3.4\"->ipdb) (0.7.5)\n",
      "Requirement already satisfied: decorator in c:\\programdata\\anaconda3\\lib\\site-packages (from ipython>=5.1.0; python_version >= \"3.4\"->ipdb) (4.4.0)\n",
      "Requirement already satisfied: colorama; sys_platform == \"win32\" in c:\\programdata\\anaconda3\\lib\\site-packages (from ipython>=5.1.0; python_version >= \"3.4\"->ipdb) (0.4.1)\n",
      "Requirement already satisfied: jedi>=0.10 in c:\\programdata\\anaconda3\\lib\\site-packages (from ipython>=5.1.0; python_version >= \"3.4\"->ipdb) (0.13.3)\n",
      "Requirement already satisfied: traitlets>=4.2 in c:\\programdata\\anaconda3\\lib\\site-packages (from ipython>=5.1.0; python_version >= \"3.4\"->ipdb) (4.3.2)\n",
      "Requirement already satisfied: backcall in c:\\programdata\\anaconda3\\lib\\site-packages (from ipython>=5.1.0; python_version >= \"3.4\"->ipdb) (0.1.0)\n",
      "Requirement already satisfied: wcwidth in c:\\programdata\\anaconda3\\lib\\site-packages (from prompt-toolkit<2.1.0,>=2.0.0->ipython>=5.1.0; python_version >= \"3.4\"->ipdb) (0.1.7)\n",
      "Requirement already satisfied: six>=1.9.0 in c:\\programdata\\anaconda3\\lib\\site-packages (from prompt-toolkit<2.1.0,>=2.0.0->ipython>=5.1.0; python_version >= \"3.4\"->ipdb) (1.12.0)\n",
      "Requirement already satisfied: parso>=0.3.0 in c:\\programdata\\anaconda3\\lib\\site-packages (from jedi>=0.10->ipython>=5.1.0; python_version >= \"3.4\"->ipdb) (0.3.4)\n",
      "Requirement already satisfied: ipython-genutils in c:\\programdata\\anaconda3\\lib\\site-packages (from traitlets>=4.2->ipython>=5.1.0; python_version >= \"3.4\"->ipdb) (0.2.0)\n"
     ]
    }
   ],
   "source": [
    "!pip install ipdb"
   ]
  },
  {
   "cell_type": "code",
   "execution_count": 19,
   "metadata": {},
   "outputs": [
    {
     "name": "stdout",
     "output_type": "stream",
     "text": [
      "Package                            Version \n",
      "---------------------------------- --------\n",
      "alabaster                          0.7.12  \n",
      "anaconda-client                    1.7.2   \n",
      "anaconda-navigator                 1.9.7   \n",
      "anaconda-project                   0.8.2   \n",
      "asn1crypto                         0.24.0  \n",
      "astroid                            2.2.5   \n",
      "astropy                            3.1.2   \n",
      "atomicwrites                       1.3.0   \n",
      "attrs                              19.1.0  \n",
      "Babel                              2.6.0   \n",
      "backcall                           0.1.0   \n",
      "backports.os                       0.1.1   \n",
      "backports.shutil-get-terminal-size 1.0.0   \n",
      "beautifulsoup4                     4.7.1   \n",
      "bitarray                           0.8.3   \n",
      "bkcharts                           0.2     \n",
      "bleach                             3.1.0   \n",
      "bokeh                              1.0.4   \n",
      "boto                               2.49.0  \n",
      "Bottleneck                         1.2.1   \n",
      "certifi                            2019.3.9\n",
      "cffi                               1.12.2  \n",
      "chardet                            3.0.4   \n",
      "Click                              7.0     \n",
      "cloudpickle                        0.8.0   \n",
      "clyent                             1.2.2   \n",
      "colorama                           0.4.1   \n",
      "comtypes                           1.1.7   \n",
      "conda                              4.6.11  \n",
      "conda-build                        3.17.8  \n",
      "conda-verify                       3.1.1   \n",
      "contextlib2                        0.5.5   \n",
      "cryptography                       2.6.1   \n",
      "cycler                             0.10.0  \n",
      "Cython                             0.29.6  \n",
      "cytoolz                            0.9.0.1 \n",
      "dask                               1.1.4   \n",
      "decorator                          4.4.0   \n",
      "defusedxml                         0.5.0   \n",
      "distributed                        1.26.0  \n",
      "docutils                           0.14    \n",
      "entrypoints                        0.3     \n",
      "et-xmlfile                         1.0.1   \n",
      "fastcache                          1.0.2   \n",
      "filelock                           3.0.10  \n",
      "Flask                              1.0.2   \n",
      "future                             0.17.1  \n",
      "gevent                             1.4.0   \n",
      "glob2                              0.6     \n",
      "greenlet                           0.4.15  \n",
      "h5py                               2.9.0   \n",
      "heapdict                           1.0.0   \n",
      "html5lib                           1.0.1   \n",
      "idna                               2.8     \n",
      "imageio                            2.5.0   \n",
      "imagesize                          1.1.0   \n",
      "importlib-metadata                 0.0.0   \n",
      "ipdb                               0.13.3  \n",
      "ipykernel                          5.1.0   \n",
      "ipython                            7.4.0   \n",
      "ipython-genutils                   0.2.0   \n",
      "ipywidgets                         7.4.2   \n",
      "isort                              4.3.16  \n",
      "itsdangerous                       1.1.0   \n",
      "jdcal                              1.4     \n",
      "jedi                               0.13.3  \n",
      "Jinja2                             2.10    \n",
      "jsonschema                         3.0.1   \n",
      "jupyter                            1.0.0   \n",
      "jupyter-client                     5.2.4   \n",
      "jupyter-console                    6.0.0   \n",
      "jupyter-core                       4.4.0   \n",
      "jupyterlab                         0.35.4  \n",
      "jupyterlab-server                  0.2.0   \n",
      "keyring                            18.0.0  \n",
      "kiwisolver                         1.0.1   \n",
      "lazy-object-proxy                  1.3.1   \n",
      "libarchive-c                       2.8     \n",
      "llvmlite                           0.28.0  \n",
      "locket                             0.2.0   \n",
      "lxml                               4.3.2   \n",
      "MarkupSafe                         1.1.1   \n",
      "matplotlib                         3.0.3   \n",
      "mccabe                             0.6.1   \n",
      "menuinst                           1.4.16  \n",
      "mistune                            0.8.4   \n",
      "mkl-fft                            1.0.10  \n",
      "mkl-random                         1.0.2   \n",
      "more-itertools                     6.0.0   \n",
      "mpmath                             1.1.0   \n",
      "msgpack                            0.6.1   \n",
      "multipledispatch                   0.6.0   \n",
      "navigator-updater                  0.2.1   \n",
      "nbconvert                          5.4.1   \n",
      "nbformat                           4.4.0   \n",
      "networkx                           2.2     \n",
      "nltk                               3.4     \n",
      "nose                               1.3.7   \n",
      "notebook                           5.7.8   \n",
      "numba                              0.43.1  \n",
      "numexpr                            2.6.9   \n",
      "numpy                              1.16.2  \n",
      "numpydoc                           0.8.0   \n",
      "olefile                            0.46    \n",
      "openpyxl                           2.6.1   \n",
      "packaging                          19.0    \n",
      "pandas                             0.24.2  \n",
      "pandocfilters                      1.4.2   \n",
      "parso                              0.3.4   \n",
      "partd                              0.3.10  \n",
      "path.py                            11.5.0  \n",
      "pathlib2                           2.3.3   \n",
      "patsy                              0.5.1   \n",
      "pep8                               1.7.1   \n",
      "pickleshare                        0.7.5   \n",
      "Pillow                             5.4.1   \n",
      "pip                                19.0.3  \n",
      "pkginfo                            1.5.0.1 \n",
      "pluggy                             0.9.0   \n",
      "ply                                3.11    \n",
      "prometheus-client                  0.6.0   \n",
      "prompt-toolkit                     2.0.9   \n",
      "psutil                             5.6.1   \n",
      "py                                 1.8.0   \n",
      "pycodestyle                        2.5.0   \n",
      "pycosat                            0.6.3   \n",
      "pycparser                          2.19    \n",
      "pycrypto                           2.6.1   \n",
      "pycurl                             7.43.0.2\n",
      "pyflakes                           2.1.1   \n",
      "Pygments                           2.3.1   \n",
      "pylint                             2.3.1   \n",
      "pyodbc                             4.0.26  \n",
      "pyOpenSSL                          19.0.0  \n",
      "pyparsing                          2.3.1   \n",
      "pyreadline                         2.1     \n",
      "pyrsistent                         0.14.11 \n",
      "PySocks                            1.6.8   \n",
      "pytest                             4.3.1   \n",
      "pytest-arraydiff                   0.3     \n",
      "pytest-astropy                     0.5.0   \n",
      "pytest-doctestplus                 0.3.0   \n",
      "pytest-openfiles                   0.3.2   \n",
      "pytest-remotedata                  0.3.1   \n",
      "python-dateutil                    2.8.0   \n",
      "pytz                               2018.9  \n",
      "PyWavelets                         1.0.2   \n",
      "pywin32                            223     \n",
      "pywinpty                           0.5.5   \n",
      "PyYAML                             5.1     \n",
      "pyzmq                              18.0.0  \n",
      "QtAwesome                          0.5.7   \n",
      "qtconsole                          4.4.3   \n",
      "QtPy                               1.7.0   \n",
      "requests                           2.21.0  \n",
      "rope                               0.12.0  \n",
      "ruamel-yaml                        0.15.46 \n",
      "scikit-image                       0.14.2  \n",
      "scikit-learn                       0.20.3  \n",
      "scipy                              1.2.1   \n",
      "seaborn                            0.9.0   \n",
      "Send2Trash                         1.5.0   \n",
      "setuptools                         40.8.0  \n",
      "simplegeneric                      0.8.1   \n",
      "singledispatch                     3.4.0.3 \n",
      "six                                1.12.0  \n",
      "snowballstemmer                    1.2.1   \n",
      "sortedcollections                  1.1.2   \n",
      "sortedcontainers                   2.1.0   \n",
      "soupsieve                          1.8     \n",
      "Sphinx                             1.8.5   \n",
      "sphinxcontrib-websupport           1.1.0   \n",
      "spyder                             3.3.3   \n",
      "spyder-kernels                     0.4.2   \n",
      "SQLAlchemy                         1.3.1   \n",
      "statsmodels                        0.9.0   \n",
      "sympy                              1.3     \n",
      "tables                             3.5.1   \n",
      "tblib                              1.3.2   \n",
      "terminado                          0.8.1   \n",
      "testpath                           0.4.2   \n",
      "toolz                              0.9.0   \n",
      "tornado                            6.0.2   \n",
      "tqdm                               4.31.1  \n",
      "traitlets                          4.3.2   \n",
      "unicodecsv                         0.14.1  \n",
      "urllib3                            1.24.1  \n",
      "wcwidth                            0.1.7   \n",
      "webencodings                       0.5.1   \n",
      "Werkzeug                           0.14.1  \n",
      "wheel                              0.33.1  \n",
      "widgetsnbextension                 3.4.2   \n",
      "win-inet-pton                      1.1.0   \n",
      "win-unicode-console                0.5     \n",
      "wincertstore                       0.2     \n",
      "wrapt                              1.11.1  \n",
      "xlrd                               1.2.0   \n",
      "XlsxWriter                         1.1.5   \n",
      "xlwings                            0.15.4  \n",
      "xlwt                               1.3.0   \n",
      "zict                               0.1.4   \n",
      "zipp                               0.3.3   \n"
     ]
    }
   ],
   "source": [
    "!pip list --format=columns"
   ]
  },
  {
   "cell_type": "code",
   "execution_count": 22,
   "metadata": {},
   "outputs": [
    {
     "name": "stdout",
     "output_type": "stream",
     "text": [
      "C:\\Users\\lenovo\\work\n"
     ]
    }
   ],
   "source": [
    "%cd work/"
   ]
  },
  {
   "cell_type": "code",
   "execution_count": 21,
   "metadata": {},
   "outputs": [
    {
     "name": "stdout",
     "output_type": "stream",
     "text": [
      "C:\\Users\\lenovo\n"
     ]
    }
   ],
   "source": [
    "%cd"
   ]
  },
  {
   "cell_type": "code",
   "execution_count": 27,
   "metadata": {},
   "outputs": [
    {
     "name": "stderr",
     "output_type": "stream",
     "text": [
      "'gitclone' 不是内部或外部命令，也不是可运行的程序\n",
      "或批处理文件。\n"
     ]
    }
   ],
   "source": [
    "!git clone https://github.com/PaddlePaddle/Paddle.git"
   ]
  },
  {
   "cell_type": "code",
   "execution_count": 28,
   "metadata": {},
   "outputs": [
    {
     "name": "stderr",
     "output_type": "stream",
     "text": [
      "'git' 不是内部或外部命令，也不是可运行的程序\n",
      "或批处理文件。\n"
     ]
    }
   ],
   "source": [
    "!git clone https://github.com/PaddlePaddle/Paddle.git"
   ]
  },
  {
   "cell_type": "code",
   "execution_count": 29,
   "metadata": {},
   "outputs": [
    {
     "name": "stdout",
     "output_type": "stream",
     "text": [
      "[WinError 2] 系统找不到指定的文件。: 'work/'\n",
      "C:\\Users\\lenovo\\work\n"
     ]
    }
   ],
   "source": [
    "%cd work/"
   ]
  },
  {
   "cell_type": "code",
   "execution_count": 30,
   "metadata": {},
   "outputs": [
    {
     "name": "stdout",
     "output_type": "stream",
     "text": [
      "[WinError 2] 系统找不到指定的文件。: 'work'\n",
      "C:\\Users\\lenovo\\work\n"
     ]
    }
   ],
   "source": [
    "%cd work"
   ]
  },
  {
   "cell_type": "code",
   "execution_count": 31,
   "metadata": {},
   "outputs": [
    {
     "name": "stdout",
     "output_type": "stream",
     "text": [
      "C:\\Users\\lenovo\n"
     ]
    }
   ],
   "source": [
    "%cd"
   ]
  },
  {
   "cell_type": "code",
   "execution_count": 32,
   "metadata": {},
   "outputs": [
    {
     "name": "stdout",
     "output_type": "stream",
     "text": [
      "C:\\Users\\lenovo\\work\n"
     ]
    }
   ],
   "source": [
    "%cd work/"
   ]
  },
  {
   "cell_type": "code",
   "execution_count": 35,
   "metadata": {},
   "outputs": [
    {
     "name": "stderr",
     "output_type": "stream",
     "text": [
      "'git' 不是内部或外部命令，也不是可运行的程序\n",
      "或批处理文件。\n"
     ]
    }
   ],
   "source": [
    "!git clone https://github.com"
   ]
  },
  {
   "cell_type": "code",
   "execution_count": 36,
   "metadata": {},
   "outputs": [
    {
     "name": "stderr",
     "output_type": "stream",
     "text": [
      "'git' 不是内部或外部命令，也不是可运行的程序\n",
      "或批处理文件。\n"
     ]
    }
   ],
   "source": [
    "!git init"
   ]
  },
  {
   "cell_type": "code",
   "execution_count": 37,
   "metadata": {},
   "outputs": [
    {
     "ename": "SyntaxError",
     "evalue": "invalid syntax (<ipython-input-37-f188d5ac1197>, line 1)",
     "output_type": "error",
     "traceback": [
      "\u001b[1;36m  File \u001b[1;32m\"<ipython-input-37-f188d5ac1197>\"\u001b[1;36m, line \u001b[1;32m1\u001b[0m\n\u001b[1;33m    git init\u001b[0m\n\u001b[1;37m           ^\u001b[0m\n\u001b[1;31mSyntaxError\u001b[0m\u001b[1;31m:\u001b[0m invalid syntax\n"
     ]
    }
   ],
   "source": [
    "git init"
   ]
  },
  {
   "cell_type": "code",
   "execution_count": 38,
   "metadata": {},
   "outputs": [
    {
     "name": "stdout",
     "output_type": "stream",
     "text": [
      "Collecting git\n"
     ]
    },
    {
     "name": "stderr",
     "output_type": "stream",
     "text": [
      "  Could not find a version that satisfies the requirement git (from versions: )\n",
      "No matching distribution found for git\n"
     ]
    }
   ],
   "source": [
    "!pip install git"
   ]
  },
  {
   "cell_type": "code",
   "execution_count": 39,
   "metadata": {
    "scrolled": false
   },
   "outputs": [
    {
     "name": "stdout",
     "output_type": "stream",
     "text": [
      "Package                            Version \n",
      "---------------------------------- --------\n",
      "alabaster                          0.7.12  \n",
      "anaconda-client                    1.7.2   \n",
      "anaconda-navigator                 1.9.7   \n",
      "anaconda-project                   0.8.2   \n",
      "asn1crypto                         0.24.0  \n",
      "astroid                            2.2.5   \n",
      "astropy                            3.1.2   \n",
      "atomicwrites                       1.3.0   \n",
      "attrs                              19.1.0  \n",
      "Babel                              2.6.0   \n",
      "backcall                           0.1.0   \n",
      "backports.os                       0.1.1   \n",
      "backports.shutil-get-terminal-size 1.0.0   \n",
      "beautifulsoup4                     4.7.1   \n",
      "bitarray                           0.8.3   \n",
      "bkcharts                           0.2     \n",
      "bleach                             3.1.0   \n",
      "bokeh                              1.0.4   \n",
      "boto                               2.49.0  \n",
      "Bottleneck                         1.2.1   \n",
      "certifi                            2019.3.9\n",
      "cffi                               1.12.2  \n",
      "chardet                            3.0.4   \n",
      "Click                              7.0     \n",
      "cloudpickle                        0.8.0   \n",
      "clyent                             1.2.2   \n",
      "colorama                           0.4.1   \n",
      "comtypes                           1.1.7   \n",
      "conda                              4.6.11  \n",
      "conda-build                        3.17.8  \n",
      "conda-verify                       3.1.1   \n",
      "contextlib2                        0.5.5   \n",
      "cryptography                       2.6.1   \n",
      "cycler                             0.10.0  \n",
      "Cython                             0.29.6  \n",
      "cytoolz                            0.9.0.1 \n",
      "dask                               1.1.4   \n",
      "decorator                          4.4.0   \n",
      "defusedxml                         0.5.0   \n",
      "distributed                        1.26.0  \n",
      "docutils                           0.14    \n",
      "entrypoints                        0.3     \n",
      "et-xmlfile                         1.0.1   \n",
      "fastcache                          1.0.2   \n",
      "filelock                           3.0.10  \n",
      "Flask                              1.0.2   \n",
      "future                             0.17.1  \n",
      "gevent                             1.4.0   \n",
      "glob2                              0.6     \n",
      "greenlet                           0.4.15  \n",
      "h5py                               2.9.0   \n",
      "heapdict                           1.0.0   \n",
      "html5lib                           1.0.1   \n",
      "idna                               2.8     \n",
      "imageio                            2.5.0   \n",
      "imagesize                          1.1.0   \n",
      "importlib-metadata                 0.0.0   \n",
      "ipdb                               0.13.3  \n",
      "ipykernel                          5.1.0   \n",
      "ipython                            7.4.0   \n",
      "ipython-genutils                   0.2.0   \n",
      "ipywidgets                         7.4.2   \n",
      "isort                              4.3.16  \n",
      "itsdangerous                       1.1.0   \n",
      "jdcal                              1.4     \n",
      "jedi                               0.13.3  \n",
      "Jinja2                             2.10    \n",
      "jsonschema                         3.0.1   \n",
      "jupyter                            1.0.0   \n",
      "jupyter-client                     5.2.4   \n",
      "jupyter-console                    6.0.0   \n",
      "jupyter-core                       4.4.0   \n",
      "jupyterlab                         0.35.4  \n",
      "jupyterlab-server                  0.2.0   \n",
      "keyring                            18.0.0  \n",
      "kiwisolver                         1.0.1   \n",
      "lazy-object-proxy                  1.3.1   \n",
      "libarchive-c                       2.8     \n",
      "llvmlite                           0.28.0  \n",
      "locket                             0.2.0   \n",
      "lxml                               4.3.2   \n",
      "MarkupSafe                         1.1.1   \n",
      "matplotlib                         3.0.3   \n",
      "mccabe                             0.6.1   \n",
      "menuinst                           1.4.16  \n",
      "mistune                            0.8.4   \n",
      "mkl-fft                            1.0.10  \n",
      "mkl-random                         1.0.2   \n",
      "more-itertools                     6.0.0   \n",
      "mpmath                             1.1.0   \n",
      "msgpack                            0.6.1   \n",
      "multipledispatch                   0.6.0   \n",
      "navigator-updater                  0.2.1   \n",
      "nbconvert                          5.4.1   \n",
      "nbformat                           4.4.0   \n",
      "networkx                           2.2     \n",
      "nltk                               3.4     \n",
      "nose                               1.3.7   \n",
      "notebook                           5.7.8   \n",
      "numba                              0.43.1  \n",
      "numexpr                            2.6.9   \n",
      "numpy                              1.16.2  \n",
      "numpydoc                           0.8.0   \n",
      "olefile                            0.46    \n",
      "openpyxl                           2.6.1   \n",
      "packaging                          19.0    \n",
      "pandas                             0.24.2  \n",
      "pandocfilters                      1.4.2   \n",
      "parso                              0.3.4   \n",
      "partd                              0.3.10  \n",
      "path.py                            11.5.0  \n",
      "pathlib2                           2.3.3   \n",
      "patsy                              0.5.1   \n",
      "pep8                               1.7.1   \n",
      "pickleshare                        0.7.5   \n",
      "Pillow                             5.4.1   \n",
      "pip                                19.0.3  \n",
      "pkginfo                            1.5.0.1 \n",
      "pluggy                             0.9.0   \n",
      "ply                                3.11    \n",
      "prometheus-client                  0.6.0   \n",
      "prompt-toolkit                     2.0.9   \n",
      "psutil                             5.6.1   \n",
      "py                                 1.8.0   \n",
      "pycodestyle                        2.5.0   \n",
      "pycosat                            0.6.3   \n",
      "pycparser                          2.19    \n",
      "pycrypto                           2.6.1   \n",
      "pycurl                             7.43.0.2\n",
      "pyflakes                           2.1.1   \n",
      "Pygments                           2.3.1   \n",
      "pylint                             2.3.1   \n",
      "pyodbc                             4.0.26  \n",
      "pyOpenSSL                          19.0.0  \n",
      "pyparsing                          2.3.1   \n",
      "pyreadline                         2.1     \n",
      "pyrsistent                         0.14.11 \n",
      "PySocks                            1.6.8   \n",
      "pytest                             4.3.1   \n",
      "pytest-arraydiff                   0.3     \n",
      "pytest-astropy                     0.5.0   \n",
      "pytest-doctestplus                 0.3.0   \n",
      "pytest-openfiles                   0.3.2   \n",
      "pytest-remotedata                  0.3.1   \n",
      "python-dateutil                    2.8.0   \n",
      "pytz                               2018.9  \n",
      "PyWavelets                         1.0.2   \n",
      "pywin32                            223     \n",
      "pywinpty                           0.5.5   \n",
      "PyYAML                             5.1     \n",
      "pyzmq                              18.0.0  \n",
      "QtAwesome                          0.5.7   \n",
      "qtconsole                          4.4.3   \n",
      "QtPy                               1.7.0   \n",
      "requests                           2.21.0  \n",
      "rope                               0.12.0  \n",
      "ruamel-yaml                        0.15.46 \n",
      "scikit-image                       0.14.2  \n",
      "scikit-learn                       0.20.3  \n",
      "scipy                              1.2.1   \n",
      "seaborn                            0.9.0   \n",
      "Send2Trash                         1.5.0   \n",
      "setuptools                         40.8.0  \n",
      "simplegeneric                      0.8.1   \n",
      "singledispatch                     3.4.0.3 \n",
      "six                                1.12.0  \n",
      "snowballstemmer                    1.2.1   \n",
      "sortedcollections                  1.1.2   \n",
      "sortedcontainers                   2.1.0   \n",
      "soupsieve                          1.8     \n",
      "Sphinx                             1.8.5   \n",
      "sphinxcontrib-websupport           1.1.0   \n",
      "spyder                             3.3.3   \n",
      "spyder-kernels                     0.4.2   \n",
      "SQLAlchemy                         1.3.1   \n",
      "statsmodels                        0.9.0   \n",
      "sympy                              1.3     \n",
      "tables                             3.5.1   \n",
      "tblib                              1.3.2   \n",
      "terminado                          0.8.1   \n",
      "testpath                           0.4.2   \n",
      "toolz                              0.9.0   \n",
      "tornado                            6.0.2   \n",
      "tqdm                               4.31.1  \n",
      "traitlets                          4.3.2   \n",
      "unicodecsv                         0.14.1  \n",
      "urllib3                            1.24.1  \n",
      "wcwidth                            0.1.7   \n",
      "webencodings                       0.5.1   \n",
      "Werkzeug                           0.14.1  \n",
      "wheel                              0.33.1  \n",
      "widgetsnbextension                 3.4.2   \n",
      "win-inet-pton                      1.1.0   \n",
      "win-unicode-console                0.5     \n",
      "wincertstore                       0.2     \n",
      "wrapt                              1.11.1  \n",
      "xlrd                               1.2.0   \n",
      "XlsxWriter                         1.1.5   \n",
      "xlwings                            0.15.4  \n",
      "xlwt                               1.3.0   \n",
      "zict                               0.1.4   \n",
      "zipp                               0.3.3   \n"
     ]
    }
   ],
   "source": [
    "!pip list --format=columns"
   ]
  },
  {
   "cell_type": "code",
   "execution_count": 40,
   "metadata": {},
   "outputs": [
    {
     "ename": "SyntaxError",
     "evalue": "invalid syntax (<ipython-input-40-9d0cbecc620e>, line 1)",
     "output_type": "error",
     "traceback": [
      "\u001b[1;36m  File \u001b[1;32m\"<ipython-input-40-9d0cbecc620e>\"\u001b[1;36m, line \u001b[1;32m1\u001b[0m\n\u001b[1;33m    $git config --global user.name \"black-leaves\"\u001b[0m\n\u001b[1;37m    ^\u001b[0m\n\u001b[1;31mSyntaxError\u001b[0m\u001b[1;31m:\u001b[0m invalid syntax\n"
     ]
    }
   ],
   "source": [
    "$git config --global user.name \"black-leaves\"\n",
    "$git config --global user.email \"3241943702@qq.com\""
   ]
  },
  {
   "cell_type": "code",
   "execution_count": null,
   "metadata": {},
   "outputs": [],
   "source": []
  }
 ],
 "metadata": {
  "kernelspec": {
   "display_name": "Python 3",
   "language": "python",
   "name": "python3"
  },
  "language_info": {
   "codemirror_mode": {
    "name": "ipython",
    "version": 3
   },
   "file_extension": ".py",
   "mimetype": "text/x-python",
   "name": "python",
   "nbconvert_exporter": "python",
   "pygments_lexer": "ipython3",
   "version": "3.7.3"
  }
 },
 "nbformat": 4,
 "nbformat_minor": 2
}
